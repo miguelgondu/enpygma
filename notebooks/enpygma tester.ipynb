{
 "cells": [
  {
   "cell_type": "markdown",
   "metadata": {},
   "source": [
    "# enpygma, Enigma for python."
   ]
  },
  {
   "cell_type": "markdown",
   "metadata": {},
   "source": [
    "In this notebook we lay the foundations of the Enigma machine (or at least an enigma-like machine) and its version in python."
   ]
  },
  {
   "cell_type": "markdown",
   "metadata": {},
   "source": [
    "## Usual suspects"
   ]
  },
  {
   "cell_type": "code",
   "execution_count": 16,
   "metadata": {
    "collapsed": false
   },
   "outputs": [
    {
     "name": "stdout",
     "output_type": "stream",
     "text": [
      "True\n",
      "True\n",
      "True\n",
      "True\n",
      "True\n",
      "27\n"
     ]
    }
   ],
   "source": [
    "Rotor_1_dict = {'a': 'e', 'b': 'k', 'c': 'm', 'd': 'f',\n",
    "           'e': 'l', 'f': 'g', 'g': 'd', 'h': 'q',\n",
    "           'i': 'v', 'j': 'z', 'k': 'n', 'l': 't',\n",
    "           'm': 'o', 'n': 'w', 'o': 'y', 'p': 'h',\n",
    "           'q': 'x', 'r': 'u', 's': 's', 't': 'p',\n",
    "           'u': 'a', 'v': 'i', 'w': 'b', 'x': 'r',\n",
    "           'y': 'c', 'z': 'j', ' ': ' '}\n",
    "\n",
    "Rotor_1_dict_inverse = {v: k for k, v in Rotor_1_dict.items()}\n",
    "\n",
    "print(isOnetoOne(Rotor_1_dict))\n",
    "\n",
    "Rotor_1_knocker = 'r'\n",
    "\n",
    "Rotor_2_dict = {'a': 'a', 'b': 'j', 'c': 'd', 'd': 'k',\n",
    "           'e': 's', 'f': 'i', 'g': 'r', 'h': 'u',\n",
    "           'i': 'x', 'j': 'b', 'k': 'l', 'l': 'h',\n",
    "           'm': 'w', 'n': 't', 'o': 'm', 'p': 'c',\n",
    "           'q': 'q', 'r': 'g', 's': 'z', 't': 'n',\n",
    "           'u': 'p', 'v': 'y', 'w': 'f', 'x': 'v',\n",
    "           'y': 'o', 'z': 'e', ' ': ' '}\n",
    "\n",
    "Rotor_2_dict_inverse = {v: k for k, v in Rotor_2_dict.items()}\n",
    "\n",
    "print(isOnetoOne(Rotor_2_dict))\n",
    "\n",
    "Rotor_2_knocker = 'f'\n",
    "\n",
    "Rotor_3_dict = {'a': 'b', 'b': 'd', 'c': 'f', 'd': 'h',\n",
    "           'e': 'j', 'f': 'l', 'g': 'c', 'h': 'p',\n",
    "           'i': 'r', 'j': 't', 'k': 'x', 'l': 'v',\n",
    "           'm': 'z', 'n': 'n', 'o': 'y', 'p': 'e',\n",
    "           'q': 'i', 'r': 'w', 's': 'g', 't': 'a',\n",
    "           'u': 'k', 'v': 'm', 'w': 'u', 'x': 's',\n",
    "           'y': 'q', 'z': 'o', ' ': ' '}\n",
    "\n",
    "Rotor_3_dict_inverse = {v: k for k, v in Rotor_3_dict.items()}\n",
    "\n",
    "print(isOnetoOne(Rotor_3_dict))\n",
    "\n",
    "Rotor_3_knocker = 'w'\n",
    "\n",
    "Rotor_4_dict = {'a': 'e', 'b': 's', 'c': 'o', 'd': 'v',\n",
    "           'e': 'p', 'f': 'z', 'g': 'j', 'h': 'a',\n",
    "           'i': 'y', 'j': 'q', 'k': 'u', 'l': 'i',\n",
    "           'm': 'r', 'n': 'h', 'o': 'x', 'p': 'l',\n",
    "           'q': 'n', 'r': 'f', 's': 't', 't': 'g',\n",
    "           'u': 'k', 'v': 'd', 'w': 'c', 'x': 'm',\n",
    "           'y': 'w', 'z': 'b', ' ': ' '}\n",
    "\n",
    "Rotor_4_dict_inverse = {v: k for k, v in Rotor_4_dict.items()}\n",
    "\n",
    "print(isOnetoOne(Rotor_4_dict))\n",
    "\n",
    "Rotor_4_knocker = 'k'\n",
    "\n",
    "Rotor_5_dict = {'a': 'v', 'b': 'z', 'c': 'b', 'd': 'r',\n",
    "           'e': 'g', 'f': 'i', 'g': 't', 'h': 'y',\n",
    "           'i': 'u', 'j': 'p', 'k': 's', 'l': 'd',\n",
    "           'm': 'n', 'n': 'h', 'o': 'l', 'p': 'x',\n",
    "           'q': 'a', 'r': 'w', 's': 'm', 't': 'j',\n",
    "           'u': 'q', 'v': 'o', 'w': 'f', 'x': 'e',\n",
    "           'y': 'c', 'z': 'k', ' ': ' '}\n",
    "\n",
    "Rotor_5_dict_inverse = {v: k for k, v in Rotor_5_dict.items()}\n",
    "\n",
    "print(isOnetoOne(Rotor_5_dict))\n",
    "\n",
    "Rotor_5_knocker = 'a'\n",
    "\n",
    "Reflector_B_dict = {'a': 'y', 'y': 'a', 'b': 'r', 'r': 'b', 'c': 'u', 'u': 'c', 'd': 'h', 'h': 'd',\n",
    "                    'e': 'q', 'q': 'e', 'f': 's', 's': 'f', 'g': 'l', 'l': 'g',\n",
    "                    'i': 'p', 'p': 'i', 'j': 'x', 'x': 'j', 'k': 'n', 'n': 'k',\n",
    "                    'm': 'o', 'o': 'm', 't': 'z', 'z': 't', 'v': 'w', 'w': 'v', ' ': ' '}\n",
    "\n",
    "\n",
    "\n",
    "print(len(Reflector_B_dict))"
   ]
  },
  {
   "cell_type": "code",
   "execution_count": 17,
   "metadata": {
    "collapsed": true
   },
   "outputs": [],
   "source": [
    "def getInverseDict(_dict):\n",
    "    return {v: k for k, v in _dict.items()}"
   ]
  },
  {
   "cell_type": "code",
   "execution_count": 18,
   "metadata": {
    "collapsed": false
   },
   "outputs": [
    {
     "name": "stdout",
     "output_type": "stream",
     "text": [
      "{'a': 'a', 'e': 'b', 'c': 'd'}\n"
     ]
    }
   ],
   "source": [
    "dict1 = {'a': 'a', 'd': 'c', 'b': 'e'}\n",
    "print(dict(getInverseDict(dict1)))"
   ]
  },
  {
   "cell_type": "code",
   "execution_count": 19,
   "metadata": {
    "collapsed": true
   },
   "outputs": [],
   "source": [
    "def getComposite(dict1, dict2):\n",
    "    return {k: dict2[dict1[k]] for k in dict1}"
   ]
  },
  {
   "cell_type": "markdown",
   "metadata": {},
   "source": [
    "## Defining the \"rotor\" class"
   ]
  },
  {
   "cell_type": "code",
   "execution_count": 20,
   "metadata": {
    "collapsed": false
   },
   "outputs": [],
   "source": [
    "from string import ascii_lowercase as alphabet\n",
    "\n",
    "class rotor:\n",
    "    def __init__(self, _rotor_dict, _starting_position = 'a', _knocker = 'a'):\n",
    "        self.rotor_dict = _rotor_dict\n",
    "        self.starting_position = _starting_position\n",
    "        self.knocker = _knocker\n",
    "        self.current_position = _starting_position\n",
    "        self.inverse_dict = getInverseDict(self.rotor_dict)\n",
    "        \n",
    "    def setCurrentPosition(self, letter):\n",
    "        self.current_position = letter\n",
    "    \n",
    "    def turn(self):\n",
    "        current_index = alphabet.index(self.current_position)\n",
    "        self.setCurrentPosition(alphabet[(current_index + 1)%26])\n",
    "        \n",
    "    def mapLetter(self, letter):\n",
    "        return self.rotor_dict[letter]\n",
    "    \n",
    "    def reverseMapLetter(self, letter):\n",
    "        return self.inverse_dict[letter]"
   ]
  },
  {
   "cell_type": "code",
   "execution_count": 21,
   "metadata": {
    "collapsed": false
   },
   "outputs": [],
   "source": [
    "rotor1 = rotor(Rotor_1_dict, 'a', 'r')"
   ]
  },
  {
   "cell_type": "code",
   "execution_count": 22,
   "metadata": {
    "collapsed": false
   },
   "outputs": [
    {
     "name": "stdout",
     "output_type": "stream",
     "text": [
      "a\n",
      "b\n"
     ]
    }
   ],
   "source": [
    "print(rotor1.current_position)\n",
    "rotor1.turn()\n",
    "print(rotor1.current_position)"
   ]
  },
  {
   "cell_type": "markdown",
   "metadata": {},
   "source": [
    "The plugboard is just an usual python dict"
   ]
  },
  {
   "cell_type": "code",
   "execution_count": 23,
   "metadata": {
    "collapsed": true
   },
   "outputs": [],
   "source": [
    "plugboard = {'a':'e', 'b':'i', 'c':'o', 'd':'f', 'g':'v', 'h':'m', 'p':'y', 'q':'z', 's':'x', 'u':'w'}"
   ]
  },
  {
   "cell_type": "code",
   "execution_count": 24,
   "metadata": {
    "collapsed": true
   },
   "outputs": [],
   "source": [
    "def offseter(letter):\n",
    "    ind = alphabet.index(letter)\n",
    "    dictionary = {alphabet[(ind - i) % 26]: _letter for (i, _letter) in enumerate(alphabet)}\n",
    "    dictionary[' '] = ' '\n",
    "    return dictionary"
   ]
  },
  {
   "cell_type": "code",
   "execution_count": 25,
   "metadata": {
    "collapsed": false
   },
   "outputs": [
    {
     "name": "stdout",
     "output_type": "stream",
     "text": [
      "{'q': 'k', 'j': 'r', 'i': 's', 's': 'i', 'a': 'a', 'o': 'm', 'z': 'b', 'r': 'j', 'f': 'v', 'k': 'q', 'h': 't', 'd': 'x', 'x': 'd', 'c': 'y', 'm': 'o', 'p': 'l', 't': 'h', 'g': 'u', 'u': 'g', 'w': 'e', 'b': 'z', 'e': 'w', 'l': 'p', 'y': 'c', ' ': ' ', 'v': 'f', 'n': 'n'}\n",
      "True\n"
     ]
    }
   ],
   "source": [
    "print(offseter('a'))\n",
    "print(isOnetoOne(offseter('s')))"
   ]
  },
  {
   "cell_type": "code",
   "execution_count": 26,
   "metadata": {
    "collapsed": true
   },
   "outputs": [],
   "source": [
    "def isOnetoOne(dict1):\n",
    "    list_of_values = []\n",
    "    set_of_values = set([])\n",
    "    for key in dict1:\n",
    "        list_of_values.append(dict1[key])\n",
    "        set_of_values.add(dict1[key])\n",
    "    #print(list_of_values)\n",
    "    if len(list_of_values) == len(set_of_values):\n",
    "        return True\n",
    "    else:\n",
    "        return False"
   ]
  },
  {
   "cell_type": "code",
   "execution_count": 32,
   "metadata": {
    "collapsed": true
   },
   "outputs": [],
   "source": [
    "def stringcleaner(message):\n",
    "    return message.replace('\\r', '').replace('\\n', ' ').lower()"
   ]
  },
  {
   "cell_type": "code",
   "execution_count": 33,
   "metadata": {
    "collapsed": false
   },
   "outputs": [],
   "source": [
    "def enigma(message, _rotors, _starting_positions, _plugboard):\n",
    "    '''\n",
    "    This function encrypts/decrypts a string simulating the enigma machine whose set up is given by\n",
    "        -_rotors: a tuple with a reflector and three rotor objects which correspond to the left,\n",
    "                  middle and right rotors respectively.\n",
    "        -_starting_positions: a tuple with three letters stating the starting positions of said rotors.\n",
    "        \n",
    "    To-Do:\n",
    "        -Implement it in such a way that all characters that are not in the dict are mapped to themselves,\n",
    "         fixing the whole punctuation (and spacing) problem.\n",
    "    '''\n",
    "    \n",
    "    # Check whether the parameters are actually usable or not\n",
    "    \n",
    "    \n",
    "    reflector, left_rotor, middle_rotor, right_rotor = _rotors\n",
    "    \n",
    "    left_rotor.setCurrentPosition(_starting_positions[0])\n",
    "    middle_rotor.setCurrentPosition(_starting_positions[1])\n",
    "    right_rotor.setCurrentPosition(_starting_positions[2])\n",
    "    #Encrypt using a for for each letter in string. Be wary of white spaces when turning rotors.\n",
    "    \n",
    "    #The order is: recieve a letter, rotate right-most rotor, pass it through the plugboard,\n",
    "    #pass it through the rotors, bounce it, pass it throught the rotors again, pass it through the plugboard\n",
    "    #and save it.\n",
    "    \n",
    "    encrypted_message = ''\n",
    "    for letter in message:\n",
    "        #Turn the rotor mechanisms.\n",
    "        right_rotor.turn()\n",
    "        if right_rotor.current_position == right_rotor.knocker:\n",
    "            middle_rotor.turn()\n",
    "            if middle_rotor.current_position == middle_rotor.knocker:\n",
    "                left_rotor.turn()\n",
    "\n",
    "        #Encrypt.\n",
    "        right_rotor_offseter = offseter(right_rotor.current_position)\n",
    "        middle_rotor_offseter = offseter(middle_rotor.current_position)\n",
    "        left_rotor_offseter = offseter(left_rotor.current_position)\n",
    "        \n",
    "        composite_of_rotors = getComposite(right_rotor_offseter, right_rotor.rotor_dict)\n",
    "        composite_of_rotors = getComposite(composite_of_rotors, middle_rotor_offseter)\n",
    "        composite_of_rotors = getComposite(composite_of_rotors, middle_rotor.rotor_dict)\n",
    "        composite_of_rotors = getComposite(composite_of_rotors, left_rotor_offseter)\n",
    "        composite_of_rotors = getComposite(composite_of_rotors, left_rotor.rotor_dict)\n",
    "        \n",
    "        inverse_of_rotors = getInverseDict(composite_of_rotors)\n",
    "        \n",
    "        encrypted_letter = _plugboard[letter]\n",
    "        encrypted_letter = composite_of_rotors[encrypted_letter]\n",
    "        encrypted_letter = reflector[encrypted_letter]\n",
    "        encrypted_letter = inverse_of_rotors[encrypted_letter]\n",
    "        encrypted_letter = _plugboard[encrypted_letter]\n",
    "        \n",
    "        #Add it to the message.\n",
    "        encrypted_message += encrypted_letter\n",
    "    \n",
    "    return encrypted_message"
   ]
  },
  {
   "cell_type": "code",
   "execution_count": 28,
   "metadata": {
    "collapsed": true
   },
   "outputs": [],
   "source": [
    "def plugboardCompleter(plugboard):\n",
    "    inverse_plugboard = {v: k for k, v in plugboard.items()}\n",
    "    complete_plugboard = {}\n",
    "    for letter in alphabet:\n",
    "        if letter in plugboard:\n",
    "            complete_plugboard[letter] = plugboard[letter]\n",
    "        elif letter in inverse_plugboard:\n",
    "            complete_plugboard[letter] = inverse_plugboard[letter]\n",
    "        else:\n",
    "            complete_plugboard[letter] = letter\n",
    "    complete_plugboard[' '] = ' '\n",
    "    return complete_plugboard"
   ]
  },
  {
   "cell_type": "code",
   "execution_count": 29,
   "metadata": {
    "collapsed": false
   },
   "outputs": [
    {
     "name": "stdout",
     "output_type": "stream",
     "text": [
      "Message to encrypt: miguel miguel miguel miguel\n",
      "Encrypted message: cfllvw ctzdvy nmtiaa ztxdic\n",
      "Decrypted message: miguel miguel miguel miguel\n"
     ]
    }
   ],
   "source": [
    "message = 'miguel miguel miguel miguel'\n",
    "message.replace('\\r', '')\n",
    "Rotor_1 = rotor(Rotor_1_dict, _knocker = Rotor_1_knocker)\n",
    "Rotor_2 = rotor(Rotor_2_dict, _knocker = Rotor_2_knocker)\n",
    "Rotor_3 = rotor(Rotor_3_dict, _knocker = Rotor_3_knocker)\n",
    "Rotor_4 = rotor(Rotor_4_dict, _knocker = Rotor_4_knocker)\n",
    "Rotor_5 = rotor(Rotor_5_dict, _knocker = Rotor_5_knocker)\n",
    "\n",
    "rotors = (Reflector_B_dict, Rotor_1, Rotor_2, Rotor_3)\n",
    "starting_positions = ('b','a','a')\n",
    "plugboard = {'b':'t', 'c':'u', 'f':'q', 'g':'z', 'i':'a', 'j':'o', 'n':'v', 'p':'e', 's': 'l', 'y':'m'}\n",
    "plugboard = plugboardCompleter(plugboard)\n",
    "# print(plugboard)\n",
    "encrypted_message = enigma(message, rotors, starting_positions, plugboard)\n",
    "print('Message to encrypt: ' + message)\n",
    "print('Encrypted message: ' + enigma(message, rotors, starting_positions, plugboard))\n",
    "print('Decrypted message: ' + enigma(encrypted_message, rotors, starting_positions, plugboard))\n",
    "# decripted_message = enigma(encrypted_message, rotors, starting_positions, plugboard)\n",
    "# print(message == decripted_message)"
   ]
  },
  {
   "cell_type": "code",
   "execution_count": 34,
   "metadata": {
    "collapsed": false
   },
   "outputs": [
    {
     "name": "stdout",
     "output_type": "stream",
     "text": [
      "Encrypted message: crqruxgcqaquvwnintltw\n",
      "Decrypted message: mmmmmmmmmmmmmmmmmmmmm\n"
     ]
    }
   ],
   "source": [
    "message = 'mmmmmmmmmmmmmmmmmmmmm'\n",
    "encrypted_message = enigma(message, rotors, starting_positions, plugboard)\n",
    "print('Encrypted message: '  + enigma(message, rotors, starting_positions, plugboard))\n",
    "print('Decrypted message: ' + enigma(encrypted_message, rotors, starting_positions, plugboard))"
   ]
  }
 ],
 "metadata": {
  "anaconda-cloud": {},
  "kernelspec": {
   "display_name": "Python [default]",
   "language": "python",
   "name": "python3"
  },
  "language_info": {
   "codemirror_mode": {
    "name": "ipython",
    "version": 3
   },
   "file_extension": ".py",
   "mimetype": "text/x-python",
   "name": "python",
   "nbconvert_exporter": "python",
   "pygments_lexer": "ipython3",
   "version": "3.5.2"
  }
 },
 "nbformat": 4,
 "nbformat_minor": 1
}
